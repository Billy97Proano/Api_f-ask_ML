{
 "cells": [
  {
   "cell_type": "code",
   "execution_count": 2,
   "id": "02a01c84",
   "metadata": {},
   "outputs": [
    {
     "name": "stdout",
     "output_type": "stream",
     "text": [
      "Requirement already satisfied: flask in c:\\users\\flaco\\anaconda3\\lib\\site-packages (1.1.2)\n",
      "Requirement already satisfied: itsdangerous>=0.24 in c:\\users\\flaco\\anaconda3\\lib\\site-packages (from flask) (1.1.0)\n",
      "Requirement already satisfied: Jinja2>=2.10.1 in c:\\users\\flaco\\anaconda3\\lib\\site-packages (from flask) (2.11.3)\n",
      "Requirement already satisfied: click>=5.1 in c:\\users\\flaco\\anaconda3\\lib\\site-packages (from flask) (7.1.2)\n",
      "Requirement already satisfied: Werkzeug>=0.15 in c:\\users\\flaco\\anaconda3\\lib\\site-packages (from flask) (1.0.1)\n",
      "Requirement already satisfied: MarkupSafe>=0.23 in c:\\users\\flaco\\anaconda3\\lib\\site-packages (from Jinja2>=2.10.1->flask) (1.1.1)\n",
      "Note: you may need to restart the kernel to use updated packages.\n"
     ]
    }
   ],
   "source": [
    "pip install flask"
   ]
  },
  {
   "cell_type": "code",
   "execution_count": 3,
   "id": "3ec65b8f",
   "metadata": {
    "scrolled": true
   },
   "outputs": [],
   "source": [
    "import json\n",
    "from flask import Flask, request\n",
    "from sklearn.preprocessing import StandardScaler\n",
    "import pandas as pd \n",
    "import pickle\n",
    "from pandas import json_normalize"
   ]
  },
  {
   "cell_type": "code",
   "execution_count": null,
   "id": "cf35ca2b",
   "metadata": {},
   "outputs": [
    {
     "name": "stdout",
     "output_type": "stream",
     "text": [
      " * Serving Flask app \"__main__\" (lazy loading)\n",
      " * Environment: production\n",
      "   WARNING: This is a development server. Do not use it in a production deployment.\n",
      "   Use a production WSGI server instead.\n",
      " * Debug mode: off\n"
     ]
    },
    {
     "name": "stderr",
     "output_type": "stream",
     "text": [
      " * Running on http://127.0.0.1:5000/ (Press CTRL+C to quit)\n",
      "C:\\Users\\flaco\\anaconda3\\lib\\site-packages\\sklearn\\base.py:310: UserWarning: Trying to unpickle estimator KMeans from version 1.0.2 when using version 0.24.1. This might lead to breaking code or invalid results. Use at your own risk.\n",
      "  warnings.warn(\n"
     ]
    },
    {
     "name": "stdout",
     "output_type": "stream",
     "text": [
      "{'Datos': [{'Year': 1997, 'Crash Type': 0, 'Speed Limit': 65, 'Road USer': 3, 'Gender': 1, 'Age': 58}, {'Year': 1948, 'Crash Type': 1, 'Speed Limit': 48, 'Road USer': 2, 'Gender': 0, 'Age': 45}, {'Year': 1965, 'Crash Type': 0, 'Speed Limit': 90, 'Road USer': 2, 'Gender': 1, 'Age': 48}]}\n",
      "<class 'pandas.core.frame.DataFrame'>\n",
      "RangeIndex: 3 entries, 0 to 2\n",
      "Data columns (total 6 columns):\n",
      " #   Column       Non-Null Count  Dtype\n",
      "---  ------       --------------  -----\n",
      " 0   Year         3 non-null      int64\n",
      " 1   Crash Type   3 non-null      int64\n",
      " 2   Speed Limit  3 non-null      int64\n",
      " 3   Road USer    3 non-null      int64\n",
      " 4   Gender       3 non-null      int64\n",
      " 5   Age          3 non-null      int64\n",
      "dtypes: int64(6)\n",
      "memory usage: 272.0 bytes\n",
      "None\n",
      "[[ 1.32911962 -0.70710678 -0.15459118  1.41421356  0.70710678  1.37944833]\n",
      " [-1.08298636  1.41421356 -1.14010992 -0.70710678 -1.41421356 -0.95961623]\n",
      " [-0.24613326 -0.70710678  1.2947011  -0.70710678  0.70710678 -0.4198321 ]]\n",
      "          0         1         2         3         4         5\n",
      "0  1.329120 -0.707107 -0.154591  1.414214  0.707107  1.379448\n",
      "1 -1.082986  1.414214 -1.140110 -0.707107 -1.414214 -0.959616\n",
      "2 -0.246133 -0.707107  1.294701 -0.707107  0.707107 -0.419832\n"
     ]
    },
    {
     "name": "stderr",
     "output_type": "stream",
     "text": [
      "127.0.0.1 - - [06/Mar/2022 23:15:39] \"\u001b[37mPOST /predict HTTP/1.1\u001b[0m\" 200 -\n"
     ]
    }
   ],
   "source": [
    "app = Flask(__name__)\n",
    "\n",
    "@app.route('/')\n",
    "def hello_world():\n",
    "    print(modelo.labels_)\n",
    "    return 'Hello world '\n",
    "\n",
    "\n",
    "\n",
    "\n",
    "@app.route('/predict', methods=['POST', 'GET'])\n",
    "def predict():\n",
    "\n",
    "    #cargamos el modelo \n",
    "    modelo = pickle.load(open('modelo.sav', 'rb'))\n",
    "\n",
    "    #cargar datos \n",
    "    df = request.get_json()\n",
    "    print(df)\n",
    "    \n",
    "    df_convertido = json_normalize(df['Datos'])\n",
    "    print(df_convertido.info())\n",
    "\n",
    "    #Realizamos el escalado de los datos \n",
    "    ss = StandardScaler()\n",
    "    df_predecir = ss.fit_transform(df_convertido)\n",
    "    print(df_predecir)\n",
    "    df= pd.DataFrame(df_predecir)\n",
    "    print(df)\n",
    "\n",
    "    #Calculamos la distancia \n",
    "    #distancia = hopkins(df, df.shape[0])\n",
    "    #print(distancia)\n",
    "\n",
    "    #predecimos a que grupo pertenece\n",
    "    prediccion = modelo.predict(df_predecir)\n",
    "    #print(\"prediccion\" + prediccion)\n",
    "\n",
    "    if(prediccion.any() == 0 ):\n",
    "         return {\n",
    "        'grupo': 'Motorcycle rider'\n",
    "    }\n",
    "    \n",
    "    elif(prediccion.any() == 1 ):\n",
    "         return {\n",
    "        'grupo': 'Pedestrian'\n",
    "    }\n",
    "    \n",
    "    elif(prediccion.any() == 2 ):\n",
    "         return {\n",
    "        'grupo': 'Driver'\n",
    "    }\n",
    "    \n",
    "    elif(prediccion.any() == 3 ):\n",
    "         return {\n",
    "        'grupo': 'Pedal cyclist'\n",
    "    }   \n",
    "        \n",
    "    \n",
    "\n",
    "if __name__ ==\"__main__\":\n",
    "    app.run()\n"
   ]
  },
  {
   "cell_type": "code",
   "execution_count": null,
   "id": "2a38b916",
   "metadata": {},
   "outputs": [],
   "source": []
  }
 ],
 "metadata": {
  "kernelspec": {
   "display_name": "Python 3",
   "language": "python",
   "name": "python3"
  },
  "language_info": {
   "codemirror_mode": {
    "name": "ipython",
    "version": 3
   },
   "file_extension": ".py",
   "mimetype": "text/x-python",
   "name": "python",
   "nbconvert_exporter": "python",
   "pygments_lexer": "ipython3",
   "version": "3.8.8"
  }
 },
 "nbformat": 4,
 "nbformat_minor": 5
}
