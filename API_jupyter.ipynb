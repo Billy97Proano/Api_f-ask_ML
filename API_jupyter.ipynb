{
 "cells": [
  {
   "cell_type": "code",
   "execution_count": 4,
   "id": "02a01c84",
   "metadata": {},
   "outputs": [
    {
     "name": "stdout",
     "output_type": "stream",
     "text": [
      "Requirement already satisfied: flask in c:\\users\\flaco\\anaconda3\\lib\\site-packages (1.1.2)\n",
      "Requirement already satisfied: itsdangerous>=0.24 in c:\\users\\flaco\\anaconda3\\lib\\site-packages (from flask) (1.1.0)\n",
      "Requirement already satisfied: Werkzeug>=0.15 in c:\\users\\flaco\\anaconda3\\lib\\site-packages (from flask) (1.0.1)\n",
      "Requirement already satisfied: Jinja2>=2.10.1 in c:\\users\\flaco\\anaconda3\\lib\\site-packages (from flask) (2.11.3)\n",
      "Requirement already satisfied: click>=5.1 in c:\\users\\flaco\\anaconda3\\lib\\site-packages (from flask) (7.1.2)\n",
      "Requirement already satisfied: MarkupSafe>=0.23 in c:\\users\\flaco\\anaconda3\\lib\\site-packages (from Jinja2>=2.10.1->flask) (1.1.1)\n",
      "Note: you may need to restart the kernel to use updated packages.\n"
     ]
    }
   ],
   "source": [
    "pip install flask"
   ]
  },
  {
   "cell_type": "code",
   "execution_count": 6,
   "id": "3ec65b8f",
   "metadata": {
    "scrolled": true
   },
   "outputs": [],
   "source": [
    "import json\n",
    "from flask import Flask, request\n",
    "from sklearn.preprocessing import StandardScaler\n",
    "import pandas as pd \n",
    "import pickle\n",
    "from pandas import json_normalize"
   ]
  },
  {
   "cell_type": "code",
   "execution_count": null,
   "id": "cf35ca2b",
   "metadata": {},
   "outputs": [],
   "source": [
    "app = Flask(__name__)\n",
    "\n",
    "@app.route('/')\n",
    "def hello_world():\n",
    "    print(modelo.labels_)\n",
    "    return 'Hello world '\n",
    "\n",
    "\n",
    "modelo = pickle.load(open('modelo.sav', 'rb'))\n",
    "\n",
    "@app.route('/predict', methods=['POST'])\n",
    "def predict():\n",
    "\n",
    "    #cargar datos \n",
    "    df = request.get_json()\n",
    "    print(df)\n",
    "    \n",
    "    df_convertido = json_normalize(df['Datos'])\n",
    "    print(df_convertido.info())\n",
    "\n",
    "    #Realizamos el escalado de los datos \n",
    "    ss = StandardScaler()\n",
    "    df_predecir = ss.fit_transform(df_convertido)\n",
    "    print(df_predecir)\n",
    "    df= pd.DataFrame(df_predecir)\n",
    "    print(df)\n",
    "    \n",
    "    #Calculamos la distancia \n",
    "    hopkins(df, df.shape[0])\n",
    "    \n",
    "    #predecimos a que grupo pertenece\n",
    "    modelo.fit(df_predecir)\n",
    "\n",
    "    prediccion = modelo.labels_\n",
    "\n",
    "    return prediccion\n",
    "        \n",
    "    \n",
    "\n",
    "if __name__ ==\"__main__\":\n",
    "    app.run()\n"
   ]
  },
  {
   "cell_type": "code",
   "execution_count": null,
   "id": "2a38b916",
   "metadata": {},
   "outputs": [],
   "source": []
  }
 ],
 "metadata": {
  "kernelspec": {
   "display_name": "Python 3",
   "language": "python",
   "name": "python3"
  },
  "language_info": {
   "codemirror_mode": {
    "name": "ipython",
    "version": 3
   },
   "file_extension": ".py",
   "mimetype": "text/x-python",
   "name": "python",
   "nbconvert_exporter": "python",
   "pygments_lexer": "ipython3",
   "version": "3.8.8"
  }
 },
 "nbformat": 4,
 "nbformat_minor": 5
}
